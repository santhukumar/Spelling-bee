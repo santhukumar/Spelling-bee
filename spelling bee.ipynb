{
 "cells": [
  {
   "cell_type": "code",
   "execution_count": 1,
   "metadata": {},
   "outputs": [
    {
     "name": "stderr",
     "output_type": "stream",
     "text": [
      "Using TensorFlow backend.\n"
     ]
    }
   ],
   "source": [
    "import re\n",
    "from sklearn.model_selection import train_test_split\n",
    "import numpy as np\n",
    "from keras_tqdm import TQDMNotebookCallback\n",
    "from keras.layers import Flatten, Dense, Input, Dropout\n",
    "from keras.layers.embeddings import Embedding\n",
    "from keras.layers import Input, Embedding, Reshape, merge, LSTM, Bidirectional, RepeatVector, TimeDistributed, Activation\n",
    "from keras.models import Sequential, Model\n",
    "from keras.optimizers import SGD, Adam\n",
    "from io import open\n",
    "from keras.callbacks import EarlyStopping, ProgbarLogger\n",
    "from keras.preprocessing.sequence import pad_sequences\n",
    "import random\n",
    "import numpy\n",
    "from bidict import bidict\n",
    "from keras.preprocessing.sequence import pad_sequences\n",
    "import re\n",
    "from sklearn.model_selection import train_test_split\n",
    "import numpy as np\n",
    "from keras_tqdm import TQDMNotebookCallback\n",
    "from keras.layers import Flatten, Dense, Input, Dropout\n",
    "from keras.layers.embeddings import Embedding\n",
    "from keras.layers import Input, Embedding, Reshape, merge, LSTM, Bidirectional, RepeatVector, TimeDistributed, Activation\n",
    "from keras.models import Sequential, Model\n",
    "from keras.optimizers import SGD, Adam\n",
    "from io import open\n",
    "from keras.callbacks import EarlyStopping, ProgbarLogger\n",
    "from keras.preprocessing.sequence import pad_sequences\n",
    "import random\n",
    "from attention import Attention\n"
   ]
  },
  {
   "cell_type": "code",
   "execution_count": 2,
   "metadata": {
    "collapsed": true
   },
   "outputs": [],
   "source": [
    "flatten= lambda l:[item for sublist in l for item in sublist]\n",
    "def randomly(seq):\n",
    "    shuffled = list(seq)\n",
    "    random.shuffle(shuffled)\n",
    "    return iter(shuffled)\n"
   ]
  },
  {
   "cell_type": "code",
   "execution_count": 3,
   "metadata": {
    "collapsed": true
   },
   "outputs": [],
   "source": [
    "with open('cmudict.0.6d') as f:\n",
    "    lines = [l.strip().split(\"  \") for l in  f.readlines()]\n",
    "    lines = [(l[0], l[1].split()) for l in lines if len(l)==2  and re.match(\"^[A-Z]+$\", l[0]) and  len(l[0])<16]\n",
    "\n",
    "    phonems = ['-'] + sorted(set(flatten([phs for w,phs in lines]))) + ['*']\n",
    "    letters = ['_'] + sorted(set(flatten([w for w, phs in lines]))) + ['*']\n",
    "    input_vocab_size = len(phonems)\n",
    "    output_vocab_size = len(letters)\n",
    "\n",
    "    char_vocab = dict(zip(letters, range(len(letters))))\n",
    "    phone_vocab = dict(zip(phonems, range(len(phonems))))\n",
    "\n",
    "    maxw_len = max([len(l[0]) for l in lines])\n",
    "    maxphs_len = max([len(l[1]) for l in lines])\n",
    "\n",
    "    X = np.zeros((len(lines), maxphs_len), np.int32)\n",
    "    Y = np.zeros((len(lines), maxw_len), np.int32)\n",
    "\n",
    "    for i, l in enumerate(randomly(lines)):\n",
    "        for j, ph in enumerate(l[1]): X[i][j] = phone_vocab[ph]\n",
    "        for j, ch in enumerate(l[0]): Y[i][j] = char_vocab[ch]\n",
    "\n",
    "    go_token = char_vocab[\"*\"]\n",
    "    dec_input_ = np.concatenate([np.ones((len(lines),1)) * go_token, Y[:,:-1]], axis=1)\n",
    "\n",
    "    X_train, X_test, X_d_train, X_d_test, y_train, y_test = train_test_split(X, dec_input_, Y, test_size=0.1)\n",
    "    #X_train, X_val, X_d_train, X_d_val, y_train, y_val = train_test_split(X_train, X_d_train, y_train, test_size=float(1)/9)\n"
   ]
  },
  {
   "cell_type": "code",
   "execution_count": 4,
   "metadata": {
    "collapsed": true
   },
   "outputs": [],
   "source": [
    "EMB_SIZE = 120\n",
    "\n",
    "def lstm_(dec_dim = EMB_SIZE, return_sequences= True): \n",
    "    return LSTM(2*dec_dim, dropout_U= 0.1, dropout_W= 0.1, consume_less= 'gpu', return_sequences=return_sequences)\n"
   ]
  },
  {
   "cell_type": "code",
   "execution_count": 5,
   "metadata": {
    "collapsed": true
   },
   "outputs": [],
   "source": [
    "inp = Input((maxphs_len,))\n",
    "dec_i = Input((maxw_len,))\n",
    "dec_e = Embedding(output_vocab_size, EMB_SIZE)(dec_i)\n",
    "dec_e = Dense(2 * EMB_SIZE)(dec_e)\n",
    "\n",
    "x = Embedding(input_vocab_size, EMB_SIZE)(inp)\n",
    "x = Bidirectional(lstm_())(x)\n",
    "x = lstm_()(x)\n",
    "x = lstm_()(x)\n",
    "x = Attention(lstm_, 3)([x, dec_e])\n",
    "x = TimeDistributed(Dense(output_vocab_size, activation='softmax'))(x)\n",
    "model = Model([inp, dec_i], x)\n",
    "\n",
    "model.compile(Adam(), loss='sparse_categorical_crossentropy', metrics=['acc'])\n",
    "\n"
   ]
  },
  {
   "cell_type": "code",
   "execution_count": 6,
   "metadata": {
    "collapsed": true
   },
   "outputs": [],
   "source": [
    "model.load_weights('model.h5')"
   ]
  },
  {
   "cell_type": "code",
   "execution_count": null,
   "metadata": {},
   "outputs": [
    {
     "name": "stdout",
     "output_type": "stream",
     "text": [
      "Train on 100740 samples, validate on 11194 samples\n",
      "Epoch 1/1\n",
      "Epoch 1/1\n",
      "  2176/100740 [..............................] - ETA: 3558s - loss: 0.1949 - acc: 0.9339"
     ]
    }
   ],
   "source": [
    "model.fit([X_train, X_d_train], np.expand_dims(y_train,-1), validation_data=[[X_test, X_d_test], np.expand_dims(y_test,-1)], batch_size=64, verbose=1,callbacks= [ProgbarLogger()], nb_epoch=10)\n"
   ]
  },
  {
   "cell_type": "code",
   "execution_count": null,
   "metadata": {
    "collapsed": true
   },
   "outputs": [],
   "source": [
    "import datetime\n",
    "model.save_weights(\"model.h5\")"
   ]
  },
  {
   "cell_type": "code",
   "execution_count": null,
   "metadata": {
    "collapsed": true
   },
   "outputs": [],
   "source": [
    "#model.load_weights('model.h5')"
   ]
  },
  {
   "cell_type": "code",
   "execution_count": 7,
   "metadata": {},
   "outputs": [
    {
     "name": "stdout",
     "output_type": "stream",
     "text": [
      "('validation accuracy', 0.44496068620443174)\n"
     ]
    }
   ],
   "source": [
    "new_l = len(X_test)/4\n",
    "X_test, X_d_test, y_test = X_test[:new_l], X_d_test[:new_l], y_test[:new_l]\n",
    "def eval_keras():\n",
    "    preds = model.predict([X_test, X_d_test], batch_size=128)\n",
    "    predict = np.argmax(preds, axis = 2)\n",
    "    return (np.mean([all(real==p) for real, p in zip(y_test, predict)]), predict)\n",
    "\n",
    "\n",
    "acc, preds = eval_keras(); \n",
    "print('validation accuracy', acc)\n"
   ]
  },
  {
   "cell_type": "code",
   "execution_count": 8,
   "metadata": {},
   "outputs": [
    {
     "name": "stdout",
     "output_type": "stream",
     "text": [
      "('pronunciation                           ', 'real spelling    ', 'model spelling   ', 'is correct')\n",
      "(u'CH-AE1-M-P                              ', u'CHAMP            ', u'CHAMP            ', 'True')\n",
      "(u'K-OW1-V-AE0-K-S                         ', u'KOVAKS           ', u'COVAKS           ', 'False')\n",
      "(u'K-AH1-D-AH0-L                           ', u'CUDDLE           ', u'KUDDLE           ', 'False')\n",
      "(u'M-EH1-L-IH0-S-AH0-N-T                   ', u'MELICENT         ', u'MELISANT         ', 'False')\n",
      "(u'F-R-AY1-B-ER0-G-ER0                     ', u'FREIBURGER       ', u'FRIIBERGER       ', 'False')\n",
      "(u'F-L-AA1-M                               ', u'FLOM             ', u'FLOM             ', 'True')\n",
      "(u'B-AO1-R-D-EH0-N-AA2-V                   ', u'BORDENAVE        ', u'BORDENOVE        ', 'False')\n",
      "(u'F-EH1-L-D-S-T-AY0-N                     ', u'FELDSTEIN        ', u'FELDSTEIN        ', 'True')\n",
      "(u'M-OW0-Z-EY1-IH0-K-AH0-L                 ', u'MOSAICAL         ', u'MOZEICAL         ', 'False')\n",
      "(u'HH-AE1-M-AH0-K                          ', u'HAMMAC           ', u'HAMAOCK          ', 'False')\n",
      "(u'M-AE1-N-CH-UW0-AH0                      ', u'MANTUA           ', u'MANCUA           ', 'False')\n",
      "(u'D-EH1-S-T-AH0-T-UW2-T                   ', u'DESTITUTE        ', u'DESTITUTE        ', 'True')\n",
      "(u'K-AY1-N-AH0-TH                          ', u'KEINATH          ', u'KIINOTH          ', 'False')\n",
      "(u'JH-AA1-K-IY0                            ', u'JOCKEY           ', u'JOCKYY           ', 'False')\n",
      "(u'M-OW1-T-AH0                             ', u'MOTA             ', u'MOTA             ', 'True')\n",
      "(u'W-OW1-L-W-EH0-N-D                       ', u'WOHLWEND         ', u'WOLLWEND         ', 'False')\n",
      "(u'K-AH1-L-ER0-Z                           ', u'COLORS           ', u'CULORS           ', 'False')\n",
      "(u'HH-AH1-NG-K-S                           ', u'HUNKS            ', u'HUNKS            ', 'True')\n",
      "(u'IY1-V-Z-D-R-AA2-P-IH0-NG                ', u'EAVESDROPPING    ', u'EVVSSDROPPING    ', 'False')\n",
      "(u'B-EH0-L-S-IY1-T-OW0                     ', u'BELSITO          ', u'BELSITO          ', 'True')\n"
     ]
    }
   ],
   "source": [
    "print(\"pronunciation\".ljust(40), \"real spelling\".ljust(17), \n",
    "      \"model spelling\".ljust(17), \"is correct\")\n",
    "\n",
    "for index in range(20):\n",
    "    ps = \"-\".join([phonems[p] for p in X_test[index]]) \n",
    "    real = [letters[l] for l in y_test[index]] \n",
    "    predict = [letters[l] for l in preds[index]]\n",
    "    print (ps.split(\"--\")[0].ljust(40), \"\".join(real).split(\"_\")[0].ljust(17),\n",
    "        \"\".join(predict).split(\"_\")[0].ljust(17), str(real == predict))\n"
   ]
  },
  {
   "cell_type": "code",
   "execution_count": 11,
   "metadata": {},
   "outputs": [
    {
     "name": "stdout",
     "output_type": "stream",
     "text": [
      "[NbConvertApp] Converting notebook spelling bee.ipynb to script\n",
      "[NbConvertApp] Writing 4731 bytes to spelling bee.py\n"
     ]
    }
   ],
   "source": [
    "!jupyter nbconvert --to script spelling\\ bee.ipynb"
   ]
  },
  {
   "cell_type": "code",
   "execution_count": null,
   "metadata": {
    "collapsed": true
   },
   "outputs": [],
   "source": []
  }
 ],
 "metadata": {
  "kernelspec": {
   "display_name": "Python 2",
   "language": "python",
   "name": "python2"
  },
  "language_info": {
   "codemirror_mode": {
    "name": "ipython",
    "version": 2
   },
   "file_extension": ".py",
   "mimetype": "text/x-python",
   "name": "python",
   "nbconvert_exporter": "python",
   "pygments_lexer": "ipython2",
   "version": "2.7.12"
  }
 },
 "nbformat": 4,
 "nbformat_minor": 2
}
